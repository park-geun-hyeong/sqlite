{
 "cells": [
  {
   "cell_type": "code",
   "execution_count": 33,
   "metadata": {},
   "outputs": [],
   "source": [
    "import sqlite3\n",
    "import pandas as pd"
   ]
  },
  {
   "cell_type": "code",
   "execution_count": 7,
   "metadata": {},
   "outputs": [
    {
     "data": {
      "text/plain": [
       "'3.32.3'"
      ]
     },
     "execution_count": 7,
     "metadata": {},
     "output_type": "execute_result"
    }
   ],
   "source": [
    "sqlite3.sqlite_version"
   ]
  },
  {
   "cell_type": "code",
   "execution_count": 8,
   "metadata": {},
   "outputs": [],
   "source": [
    "conn = sqlite3.connect('C:/sqlite/join.db')  "
   ]
  },
  {
   "cell_type": "code",
   "execution_count": 9,
   "metadata": {},
   "outputs": [],
   "source": [
    "cur = conn.cursor()    "
   ]
  },
  {
   "cell_type": "markdown",
   "metadata": {},
   "source": [
    "## Table "
   ]
  },
  {
   "cell_type": "code",
   "execution_count": 20,
   "metadata": {},
   "outputs": [
    {
     "name": "stdout",
     "output_type": "stream",
     "text": [
      "(1, 'HTML', 'HTML is ...', '1')\n",
      "(2, 'CSS', 'CSS is ...', '2')\n",
      "(3, 'JavaScript', 'JavaScript is ..', '1')\n",
      "(4, 'Database', 'Database is ...', None)\n"
     ]
    },
    {
     "data": {
      "text/html": [
       "<div>\n",
       "<style scoped>\n",
       "    .dataframe tbody tr th:only-of-type {\n",
       "        vertical-align: middle;\n",
       "    }\n",
       "\n",
       "    .dataframe tbody tr th {\n",
       "        vertical-align: top;\n",
       "    }\n",
       "\n",
       "    .dataframe thead th {\n",
       "        text-align: right;\n",
       "    }\n",
       "</style>\n",
       "<table border=\"1\" class=\"dataframe\">\n",
       "  <thead>\n",
       "    <tr style=\"text-align: right;\">\n",
       "      <th></th>\n",
       "      <th>tid</th>\n",
       "      <th>title</th>\n",
       "      <th>description</th>\n",
       "      <th>author_id</th>\n",
       "    </tr>\n",
       "  </thead>\n",
       "  <tbody>\n",
       "    <tr>\n",
       "      <th>0</th>\n",
       "      <td>1</td>\n",
       "      <td>HTML</td>\n",
       "      <td>HTML is ...</td>\n",
       "      <td>1</td>\n",
       "    </tr>\n",
       "    <tr>\n",
       "      <th>1</th>\n",
       "      <td>2</td>\n",
       "      <td>CSS</td>\n",
       "      <td>CSS is ...</td>\n",
       "      <td>2</td>\n",
       "    </tr>\n",
       "    <tr>\n",
       "      <th>2</th>\n",
       "      <td>3</td>\n",
       "      <td>JavaScript</td>\n",
       "      <td>JavaScript is ..</td>\n",
       "      <td>1</td>\n",
       "    </tr>\n",
       "    <tr>\n",
       "      <th>3</th>\n",
       "      <td>4</td>\n",
       "      <td>Database</td>\n",
       "      <td>Database is ...</td>\n",
       "      <td>None</td>\n",
       "    </tr>\n",
       "  </tbody>\n",
       "</table>\n",
       "</div>"
      ],
      "text/plain": [
       "   tid       title       description author_id\n",
       "0    1        HTML       HTML is ...         1\n",
       "1    2         CSS        CSS is ...         2\n",
       "2    3  JavaScript  JavaScript is ..         1\n",
       "3    4    Database   Database is ...      None"
      ]
     },
     "execution_count": 20,
     "metadata": {},
     "output_type": "execute_result"
    }
   ],
   "source": [
    "cur.execute('select * from topic')\n",
    "rows = cur.fetchall()\n",
    "for i in rows:\n",
    "    print(i)\n",
    "    \n",
    "col = list(map(lambda x: x[0], cur.description))\n",
    "pd.DataFrame(rows, columns=col)"
   ]
  },
  {
   "cell_type": "code",
   "execution_count": 21,
   "metadata": {},
   "outputs": [
    {
     "name": "stdout",
     "output_type": "stream",
     "text": [
      "(1, 'egoing', 'seoul', 1)\n",
      "(2, 'leezche', 'jeju', 2)\n",
      "(3, 'blackdew', 'namhae', 3)\n"
     ]
    },
    {
     "data": {
      "text/html": [
       "<div>\n",
       "<style scoped>\n",
       "    .dataframe tbody tr th:only-of-type {\n",
       "        vertical-align: middle;\n",
       "    }\n",
       "\n",
       "    .dataframe tbody tr th {\n",
       "        vertical-align: top;\n",
       "    }\n",
       "\n",
       "    .dataframe thead th {\n",
       "        text-align: right;\n",
       "    }\n",
       "</style>\n",
       "<table border=\"1\" class=\"dataframe\">\n",
       "  <thead>\n",
       "    <tr style=\"text-align: right;\">\n",
       "      <th></th>\n",
       "      <th>aid</th>\n",
       "      <th>name</th>\n",
       "      <th>city</th>\n",
       "      <th>profile_id</th>\n",
       "    </tr>\n",
       "  </thead>\n",
       "  <tbody>\n",
       "    <tr>\n",
       "      <th>0</th>\n",
       "      <td>1</td>\n",
       "      <td>egoing</td>\n",
       "      <td>seoul</td>\n",
       "      <td>1</td>\n",
       "    </tr>\n",
       "    <tr>\n",
       "      <th>1</th>\n",
       "      <td>2</td>\n",
       "      <td>leezche</td>\n",
       "      <td>jeju</td>\n",
       "      <td>2</td>\n",
       "    </tr>\n",
       "    <tr>\n",
       "      <th>2</th>\n",
       "      <td>3</td>\n",
       "      <td>blackdew</td>\n",
       "      <td>namhae</td>\n",
       "      <td>3</td>\n",
       "    </tr>\n",
       "  </tbody>\n",
       "</table>\n",
       "</div>"
      ],
      "text/plain": [
       "   aid      name    city  profile_id\n",
       "0    1    egoing   seoul           1\n",
       "1    2   leezche    jeju           2\n",
       "2    3  blackdew  namhae           3"
      ]
     },
     "execution_count": 21,
     "metadata": {},
     "output_type": "execute_result"
    }
   ],
   "source": [
    "cur.execute('select * from author')\n",
    "rows = cur.fetchall()\n",
    "for i in rows:\n",
    "    print(i)\n",
    " \n",
    "col = list(map(lambda x: x[0], cur.description))\n",
    "pd.DataFrame(rows, columns=col)"
   ]
  },
  {
   "cell_type": "code",
   "execution_count": 22,
   "metadata": {},
   "outputs": [
    {
     "name": "stdout",
     "output_type": "stream",
     "text": [
      "(1, 'developer', 'developer is ...')\n",
      "(2, 'designer', 'designer is ..')\n",
      "(3, 'DBA', 'DBA is ...')\n"
     ]
    },
    {
     "data": {
      "text/html": [
       "<div>\n",
       "<style scoped>\n",
       "    .dataframe tbody tr th:only-of-type {\n",
       "        vertical-align: middle;\n",
       "    }\n",
       "\n",
       "    .dataframe tbody tr th {\n",
       "        vertical-align: top;\n",
       "    }\n",
       "\n",
       "    .dataframe thead th {\n",
       "        text-align: right;\n",
       "    }\n",
       "</style>\n",
       "<table border=\"1\" class=\"dataframe\">\n",
       "  <thead>\n",
       "    <tr style=\"text-align: right;\">\n",
       "      <th></th>\n",
       "      <th>pid</th>\n",
       "      <th>title</th>\n",
       "      <th>description</th>\n",
       "    </tr>\n",
       "  </thead>\n",
       "  <tbody>\n",
       "    <tr>\n",
       "      <th>0</th>\n",
       "      <td>1</td>\n",
       "      <td>developer</td>\n",
       "      <td>developer is ...</td>\n",
       "    </tr>\n",
       "    <tr>\n",
       "      <th>1</th>\n",
       "      <td>2</td>\n",
       "      <td>designer</td>\n",
       "      <td>designer is ..</td>\n",
       "    </tr>\n",
       "    <tr>\n",
       "      <th>2</th>\n",
       "      <td>3</td>\n",
       "      <td>DBA</td>\n",
       "      <td>DBA is ...</td>\n",
       "    </tr>\n",
       "  </tbody>\n",
       "</table>\n",
       "</div>"
      ],
      "text/plain": [
       "   pid      title       description\n",
       "0    1  developer  developer is ...\n",
       "1    2   designer    designer is ..\n",
       "2    3        DBA        DBA is ..."
      ]
     },
     "execution_count": 22,
     "metadata": {},
     "output_type": "execute_result"
    }
   ],
   "source": [
    "cur.execute('select * from profile')\n",
    "rows = cur.fetchall()\n",
    "for i in rows:\n",
    "    print(i)\n",
    "    \n",
    "col = list(map(lambda x: x[0], cur.description))\n",
    "pd.DataFrame(rows, columns=col)"
   ]
  },
  {
   "cell_type": "markdown",
   "metadata": {},
   "source": [
    "### left join"
   ]
  },
  {
   "cell_type": "code",
   "execution_count": 24,
   "metadata": {
    "scrolled": true
   },
   "outputs": [
    {
     "name": "stdout",
     "output_type": "stream",
     "text": [
      "(1, 'HTML', 'HTML is ...', '1', 1, 'egoing', 'seoul', 1)\n",
      "(2, 'CSS', 'CSS is ...', '2', 2, 'leezche', 'jeju', 2)\n",
      "(3, 'JavaScript', 'JavaScript is ..', '1', 1, 'egoing', 'seoul', 1)\n",
      "(4, 'Database', 'Database is ...', None, None, None, None, None)\n"
     ]
    },
    {
     "data": {
      "text/html": [
       "<div>\n",
       "<style scoped>\n",
       "    .dataframe tbody tr th:only-of-type {\n",
       "        vertical-align: middle;\n",
       "    }\n",
       "\n",
       "    .dataframe tbody tr th {\n",
       "        vertical-align: top;\n",
       "    }\n",
       "\n",
       "    .dataframe thead th {\n",
       "        text-align: right;\n",
       "    }\n",
       "</style>\n",
       "<table border=\"1\" class=\"dataframe\">\n",
       "  <thead>\n",
       "    <tr style=\"text-align: right;\">\n",
       "      <th></th>\n",
       "      <th>tid</th>\n",
       "      <th>title</th>\n",
       "      <th>description</th>\n",
       "      <th>author_id</th>\n",
       "      <th>aid</th>\n",
       "      <th>name</th>\n",
       "      <th>city</th>\n",
       "      <th>profile_id</th>\n",
       "    </tr>\n",
       "  </thead>\n",
       "  <tbody>\n",
       "    <tr>\n",
       "      <th>0</th>\n",
       "      <td>1</td>\n",
       "      <td>HTML</td>\n",
       "      <td>HTML is ...</td>\n",
       "      <td>1</td>\n",
       "      <td>1.0</td>\n",
       "      <td>egoing</td>\n",
       "      <td>seoul</td>\n",
       "      <td>1.0</td>\n",
       "    </tr>\n",
       "    <tr>\n",
       "      <th>1</th>\n",
       "      <td>2</td>\n",
       "      <td>CSS</td>\n",
       "      <td>CSS is ...</td>\n",
       "      <td>2</td>\n",
       "      <td>2.0</td>\n",
       "      <td>leezche</td>\n",
       "      <td>jeju</td>\n",
       "      <td>2.0</td>\n",
       "    </tr>\n",
       "    <tr>\n",
       "      <th>2</th>\n",
       "      <td>3</td>\n",
       "      <td>JavaScript</td>\n",
       "      <td>JavaScript is ..</td>\n",
       "      <td>1</td>\n",
       "      <td>1.0</td>\n",
       "      <td>egoing</td>\n",
       "      <td>seoul</td>\n",
       "      <td>1.0</td>\n",
       "    </tr>\n",
       "    <tr>\n",
       "      <th>3</th>\n",
       "      <td>4</td>\n",
       "      <td>Database</td>\n",
       "      <td>Database is ...</td>\n",
       "      <td>None</td>\n",
       "      <td>NaN</td>\n",
       "      <td>None</td>\n",
       "      <td>None</td>\n",
       "      <td>NaN</td>\n",
       "    </tr>\n",
       "  </tbody>\n",
       "</table>\n",
       "</div>"
      ],
      "text/plain": [
       "   tid       title       description author_id  aid     name   city  \\\n",
       "0    1        HTML       HTML is ...         1  1.0   egoing  seoul   \n",
       "1    2         CSS        CSS is ...         2  2.0  leezche   jeju   \n",
       "2    3  JavaScript  JavaScript is ..         1  1.0   egoing  seoul   \n",
       "3    4    Database   Database is ...      None  NaN     None   None   \n",
       "\n",
       "   profile_id  \n",
       "0         1.0  \n",
       "1         2.0  \n",
       "2         1.0  \n",
       "3         NaN  "
      ]
     },
     "execution_count": 24,
     "metadata": {},
     "output_type": "execute_result"
    }
   ],
   "source": [
    "cur.execute('select * from topic left join author on topic.author_id = author.aid')\n",
    "rows = cur.fetchall()\n",
    "for i in rows:\n",
    "    print(i)\n",
    "\n",
    "col = list(map(lambda x : x[0], cur.description)) \n",
    "pd.DataFrame(rows, columns = col)"
   ]
  },
  {
   "cell_type": "code",
   "execution_count": 27,
   "metadata": {},
   "outputs": [
    {
     "data": {
      "text/html": [
       "<div>\n",
       "<style scoped>\n",
       "    .dataframe tbody tr th:only-of-type {\n",
       "        vertical-align: middle;\n",
       "    }\n",
       "\n",
       "    .dataframe tbody tr th {\n",
       "        vertical-align: top;\n",
       "    }\n",
       "\n",
       "    .dataframe thead th {\n",
       "        text-align: right;\n",
       "    }\n",
       "</style>\n",
       "<table border=\"1\" class=\"dataframe\">\n",
       "  <thead>\n",
       "    <tr style=\"text-align: right;\">\n",
       "      <th></th>\n",
       "      <th>tid</th>\n",
       "      <th>title</th>\n",
       "      <th>description</th>\n",
       "      <th>author_id</th>\n",
       "      <th>aid</th>\n",
       "      <th>name</th>\n",
       "      <th>city</th>\n",
       "      <th>profile_id</th>\n",
       "      <th>pid</th>\n",
       "      <th>title</th>\n",
       "      <th>description</th>\n",
       "    </tr>\n",
       "  </thead>\n",
       "  <tbody>\n",
       "    <tr>\n",
       "      <th>0</th>\n",
       "      <td>1</td>\n",
       "      <td>HTML</td>\n",
       "      <td>HTML is ...</td>\n",
       "      <td>1</td>\n",
       "      <td>1.0</td>\n",
       "      <td>egoing</td>\n",
       "      <td>seoul</td>\n",
       "      <td>1.0</td>\n",
       "      <td>1.0</td>\n",
       "      <td>developer</td>\n",
       "      <td>developer is ...</td>\n",
       "    </tr>\n",
       "    <tr>\n",
       "      <th>1</th>\n",
       "      <td>2</td>\n",
       "      <td>CSS</td>\n",
       "      <td>CSS is ...</td>\n",
       "      <td>2</td>\n",
       "      <td>2.0</td>\n",
       "      <td>leezche</td>\n",
       "      <td>jeju</td>\n",
       "      <td>2.0</td>\n",
       "      <td>2.0</td>\n",
       "      <td>designer</td>\n",
       "      <td>designer is ..</td>\n",
       "    </tr>\n",
       "    <tr>\n",
       "      <th>2</th>\n",
       "      <td>3</td>\n",
       "      <td>JavaScript</td>\n",
       "      <td>JavaScript is ..</td>\n",
       "      <td>1</td>\n",
       "      <td>1.0</td>\n",
       "      <td>egoing</td>\n",
       "      <td>seoul</td>\n",
       "      <td>1.0</td>\n",
       "      <td>1.0</td>\n",
       "      <td>developer</td>\n",
       "      <td>developer is ...</td>\n",
       "    </tr>\n",
       "    <tr>\n",
       "      <th>3</th>\n",
       "      <td>4</td>\n",
       "      <td>Database</td>\n",
       "      <td>Database is ...</td>\n",
       "      <td>None</td>\n",
       "      <td>NaN</td>\n",
       "      <td>None</td>\n",
       "      <td>None</td>\n",
       "      <td>NaN</td>\n",
       "      <td>NaN</td>\n",
       "      <td>None</td>\n",
       "      <td>None</td>\n",
       "    </tr>\n",
       "  </tbody>\n",
       "</table>\n",
       "</div>"
      ],
      "text/plain": [
       "   tid       title       description author_id  aid     name   city  \\\n",
       "0    1        HTML       HTML is ...         1  1.0   egoing  seoul   \n",
       "1    2         CSS        CSS is ...         2  2.0  leezche   jeju   \n",
       "2    3  JavaScript  JavaScript is ..         1  1.0   egoing  seoul   \n",
       "3    4    Database   Database is ...      None  NaN     None   None   \n",
       "\n",
       "   profile_id  pid      title       description  \n",
       "0         1.0  1.0  developer  developer is ...  \n",
       "1         2.0  2.0   designer    designer is ..  \n",
       "2         1.0  1.0  developer  developer is ...  \n",
       "3         NaN  NaN       None              None  "
      ]
     },
     "execution_count": 27,
     "metadata": {},
     "output_type": "execute_result"
    }
   ],
   "source": [
    "cur.execute('select * from topic left join author on topic.author_id = author.aid left join profile on author.aid = profile.pid')\n",
    "rows = cur.fetchall()\n",
    "\n",
    "col = list(map(lambda x : x[0], cur.description))\n",
    "pd.DataFrame(rows, columns= col)"
   ]
  },
  {
   "cell_type": "markdown",
   "metadata": {},
   "source": [
    "## exclusive left join "
   ]
  },
  {
   "cell_type": "code",
   "execution_count": 28,
   "metadata": {},
   "outputs": [
    {
     "data": {
      "text/html": [
       "<div>\n",
       "<style scoped>\n",
       "    .dataframe tbody tr th:only-of-type {\n",
       "        vertical-align: middle;\n",
       "    }\n",
       "\n",
       "    .dataframe tbody tr th {\n",
       "        vertical-align: top;\n",
       "    }\n",
       "\n",
       "    .dataframe thead th {\n",
       "        text-align: right;\n",
       "    }\n",
       "</style>\n",
       "<table border=\"1\" class=\"dataframe\">\n",
       "  <thead>\n",
       "    <tr style=\"text-align: right;\">\n",
       "      <th></th>\n",
       "      <th>tid</th>\n",
       "      <th>title</th>\n",
       "      <th>description</th>\n",
       "      <th>author_id</th>\n",
       "      <th>aid</th>\n",
       "      <th>name</th>\n",
       "      <th>city</th>\n",
       "      <th>profile_id</th>\n",
       "    </tr>\n",
       "  </thead>\n",
       "  <tbody>\n",
       "    <tr>\n",
       "      <th>0</th>\n",
       "      <td>4</td>\n",
       "      <td>Database</td>\n",
       "      <td>Database is ...</td>\n",
       "      <td>None</td>\n",
       "      <td>None</td>\n",
       "      <td>None</td>\n",
       "      <td>None</td>\n",
       "      <td>None</td>\n",
       "    </tr>\n",
       "  </tbody>\n",
       "</table>\n",
       "</div>"
      ],
      "text/plain": [
       "   tid     title      description author_id   aid  name  city profile_id\n",
       "0    4  Database  Database is ...      None  None  None  None       None"
      ]
     },
     "execution_count": 28,
     "metadata": {},
     "output_type": "execute_result"
    }
   ],
   "source": [
    "cur.execute('select * from topic left join author on topic.author_id = author.aid where author.aid is null')\n",
    "rows = cur.fetchall()\n",
    "col = list(map(lambda x : x[0], cur.description))\n",
    "pd.DataFrame(rows, columns= col)"
   ]
  },
  {
   "cell_type": "markdown",
   "metadata": {},
   "source": [
    "## inner join "
   ]
  },
  {
   "cell_type": "code",
   "execution_count": 29,
   "metadata": {},
   "outputs": [
    {
     "data": {
      "text/html": [
       "<div>\n",
       "<style scoped>\n",
       "    .dataframe tbody tr th:only-of-type {\n",
       "        vertical-align: middle;\n",
       "    }\n",
       "\n",
       "    .dataframe tbody tr th {\n",
       "        vertical-align: top;\n",
       "    }\n",
       "\n",
       "    .dataframe thead th {\n",
       "        text-align: right;\n",
       "    }\n",
       "</style>\n",
       "<table border=\"1\" class=\"dataframe\">\n",
       "  <thead>\n",
       "    <tr style=\"text-align: right;\">\n",
       "      <th></th>\n",
       "      <th>tid</th>\n",
       "      <th>title</th>\n",
       "      <th>description</th>\n",
       "      <th>author_id</th>\n",
       "      <th>aid</th>\n",
       "      <th>name</th>\n",
       "      <th>city</th>\n",
       "      <th>profile_id</th>\n",
       "    </tr>\n",
       "  </thead>\n",
       "  <tbody>\n",
       "    <tr>\n",
       "      <th>0</th>\n",
       "      <td>1</td>\n",
       "      <td>HTML</td>\n",
       "      <td>HTML is ...</td>\n",
       "      <td>1</td>\n",
       "      <td>1</td>\n",
       "      <td>egoing</td>\n",
       "      <td>seoul</td>\n",
       "      <td>1</td>\n",
       "    </tr>\n",
       "    <tr>\n",
       "      <th>1</th>\n",
       "      <td>2</td>\n",
       "      <td>CSS</td>\n",
       "      <td>CSS is ...</td>\n",
       "      <td>2</td>\n",
       "      <td>2</td>\n",
       "      <td>leezche</td>\n",
       "      <td>jeju</td>\n",
       "      <td>2</td>\n",
       "    </tr>\n",
       "    <tr>\n",
       "      <th>2</th>\n",
       "      <td>3</td>\n",
       "      <td>JavaScript</td>\n",
       "      <td>JavaScript is ..</td>\n",
       "      <td>1</td>\n",
       "      <td>1</td>\n",
       "      <td>egoing</td>\n",
       "      <td>seoul</td>\n",
       "      <td>1</td>\n",
       "    </tr>\n",
       "  </tbody>\n",
       "</table>\n",
       "</div>"
      ],
      "text/plain": [
       "   tid       title       description author_id  aid     name   city  \\\n",
       "0    1        HTML       HTML is ...         1    1   egoing  seoul   \n",
       "1    2         CSS        CSS is ...         2    2  leezche   jeju   \n",
       "2    3  JavaScript  JavaScript is ..         1    1   egoing  seoul   \n",
       "\n",
       "   profile_id  \n",
       "0           1  \n",
       "1           2  \n",
       "2           1  "
      ]
     },
     "execution_count": 29,
     "metadata": {},
     "output_type": "execute_result"
    }
   ],
   "source": [
    "cur.execute('select * from topic inner join author on topic.author_id = author.aid')\n",
    "rows = cur.fetchall()\n",
    "col = list(map(lambda x : x[0], cur.description))\n",
    "pd.DataFrame(rows, columns= col)"
   ]
  },
  {
   "cell_type": "markdown",
   "metadata": {},
   "source": [
    "### sqlite 3에서는 right join 과 outer join을 지원하지 않는다"
   ]
  },
  {
   "cell_type": "markdown",
   "metadata": {},
   "source": [
    "## Right join"
   ]
  },
  {
   "cell_type": "code",
   "execution_count": 32,
   "metadata": {
    "scrolled": true
   },
   "outputs": [
    {
     "data": {
      "text/html": [
       "<div>\n",
       "<style scoped>\n",
       "    .dataframe tbody tr th:only-of-type {\n",
       "        vertical-align: middle;\n",
       "    }\n",
       "\n",
       "    .dataframe tbody tr th {\n",
       "        vertical-align: top;\n",
       "    }\n",
       "\n",
       "    .dataframe thead th {\n",
       "        text-align: right;\n",
       "    }\n",
       "</style>\n",
       "<table border=\"1\" class=\"dataframe\">\n",
       "  <thead>\n",
       "    <tr style=\"text-align: right;\">\n",
       "      <th></th>\n",
       "      <th>tid</th>\n",
       "      <th>title</th>\n",
       "      <th>description</th>\n",
       "      <th>author_id</th>\n",
       "      <th>aid</th>\n",
       "      <th>name</th>\n",
       "      <th>city</th>\n",
       "      <th>profile_id</th>\n",
       "    </tr>\n",
       "  </thead>\n",
       "  <tbody>\n",
       "    <tr>\n",
       "      <th>0</th>\n",
       "      <td>1.0</td>\n",
       "      <td>HTML</td>\n",
       "      <td>HTML is ...</td>\n",
       "      <td>1</td>\n",
       "      <td>1</td>\n",
       "      <td>egoing</td>\n",
       "      <td>seoul</td>\n",
       "      <td>1</td>\n",
       "    </tr>\n",
       "    <tr>\n",
       "      <th>1</th>\n",
       "      <td>3.0</td>\n",
       "      <td>JavaScript</td>\n",
       "      <td>JavaScript is ..</td>\n",
       "      <td>1</td>\n",
       "      <td>1</td>\n",
       "      <td>egoing</td>\n",
       "      <td>seoul</td>\n",
       "      <td>1</td>\n",
       "    </tr>\n",
       "    <tr>\n",
       "      <th>2</th>\n",
       "      <td>2.0</td>\n",
       "      <td>CSS</td>\n",
       "      <td>CSS is ...</td>\n",
       "      <td>2</td>\n",
       "      <td>2</td>\n",
       "      <td>leezche</td>\n",
       "      <td>jeju</td>\n",
       "      <td>2</td>\n",
       "    </tr>\n",
       "    <tr>\n",
       "      <th>3</th>\n",
       "      <td>NaN</td>\n",
       "      <td>None</td>\n",
       "      <td>None</td>\n",
       "      <td>None</td>\n",
       "      <td>3</td>\n",
       "      <td>blackdew</td>\n",
       "      <td>namhae</td>\n",
       "      <td>3</td>\n",
       "    </tr>\n",
       "  </tbody>\n",
       "</table>\n",
       "</div>"
      ],
      "text/plain": [
       "   tid       title       description author_id  aid      name    city  \\\n",
       "0  1.0        HTML       HTML is ...         1    1    egoing   seoul   \n",
       "1  3.0  JavaScript  JavaScript is ..         1    1    egoing   seoul   \n",
       "2  2.0         CSS        CSS is ...         2    2   leezche    jeju   \n",
       "3  NaN        None              None      None    3  blackdew  namhae   \n",
       "\n",
       "   profile_id  \n",
       "0           1  \n",
       "1           1  \n",
       "2           2  \n",
       "3           3  "
      ]
     },
     "execution_count": 32,
     "metadata": {},
     "output_type": "execute_result"
    }
   ],
   "source": [
    "cur.execute('select tid, title, description, author_id, aid, name, city, profile_id from author left join topic on author.aid = topic.author_id')\n",
    "rows = cur.fetchall()\n",
    "col = list(map(lambda x : x[0], cur.description))\n",
    "pd.DataFrame(rows, columns= col)"
   ]
  },
  {
   "cell_type": "markdown",
   "metadata": {},
   "source": [
    "## Outer join"
   ]
  },
  {
   "cell_type": "code",
   "execution_count": 35,
   "metadata": {
    "scrolled": true
   },
   "outputs": [
    {
     "data": {
      "text/html": [
       "<div>\n",
       "<style scoped>\n",
       "    .dataframe tbody tr th:only-of-type {\n",
       "        vertical-align: middle;\n",
       "    }\n",
       "\n",
       "    .dataframe tbody tr th {\n",
       "        vertical-align: top;\n",
       "    }\n",
       "\n",
       "    .dataframe thead th {\n",
       "        text-align: right;\n",
       "    }\n",
       "</style>\n",
       "<table border=\"1\" class=\"dataframe\">\n",
       "  <thead>\n",
       "    <tr style=\"text-align: right;\">\n",
       "      <th></th>\n",
       "      <th>tid</th>\n",
       "      <th>title</th>\n",
       "      <th>description</th>\n",
       "      <th>author_id</th>\n",
       "      <th>aid</th>\n",
       "      <th>name</th>\n",
       "      <th>city</th>\n",
       "      <th>profile_id</th>\n",
       "    </tr>\n",
       "  </thead>\n",
       "  <tbody>\n",
       "    <tr>\n",
       "      <th>0</th>\n",
       "      <td>NaN</td>\n",
       "      <td>None</td>\n",
       "      <td>None</td>\n",
       "      <td>None</td>\n",
       "      <td>3.0</td>\n",
       "      <td>blackdew</td>\n",
       "      <td>namhae</td>\n",
       "      <td>3.0</td>\n",
       "    </tr>\n",
       "    <tr>\n",
       "      <th>1</th>\n",
       "      <td>1.0</td>\n",
       "      <td>HTML</td>\n",
       "      <td>HTML is ...</td>\n",
       "      <td>1</td>\n",
       "      <td>1.0</td>\n",
       "      <td>egoing</td>\n",
       "      <td>seoul</td>\n",
       "      <td>1.0</td>\n",
       "    </tr>\n",
       "    <tr>\n",
       "      <th>2</th>\n",
       "      <td>2.0</td>\n",
       "      <td>CSS</td>\n",
       "      <td>CSS is ...</td>\n",
       "      <td>2</td>\n",
       "      <td>2.0</td>\n",
       "      <td>leezche</td>\n",
       "      <td>jeju</td>\n",
       "      <td>2.0</td>\n",
       "    </tr>\n",
       "    <tr>\n",
       "      <th>3</th>\n",
       "      <td>3.0</td>\n",
       "      <td>JavaScript</td>\n",
       "      <td>JavaScript is ..</td>\n",
       "      <td>1</td>\n",
       "      <td>1.0</td>\n",
       "      <td>egoing</td>\n",
       "      <td>seoul</td>\n",
       "      <td>1.0</td>\n",
       "    </tr>\n",
       "    <tr>\n",
       "      <th>4</th>\n",
       "      <td>4.0</td>\n",
       "      <td>Database</td>\n",
       "      <td>Database is ...</td>\n",
       "      <td>None</td>\n",
       "      <td>NaN</td>\n",
       "      <td>None</td>\n",
       "      <td>None</td>\n",
       "      <td>NaN</td>\n",
       "    </tr>\n",
       "  </tbody>\n",
       "</table>\n",
       "</div>"
      ],
      "text/plain": [
       "   tid       title       description author_id  aid      name    city  \\\n",
       "0  NaN        None              None      None  3.0  blackdew  namhae   \n",
       "1  1.0        HTML       HTML is ...         1  1.0    egoing   seoul   \n",
       "2  2.0         CSS        CSS is ...         2  2.0   leezche    jeju   \n",
       "3  3.0  JavaScript  JavaScript is ..         1  1.0    egoing   seoul   \n",
       "4  4.0    Database   Database is ...      None  NaN      None    None   \n",
       "\n",
       "   profile_id  \n",
       "0         3.0  \n",
       "1         1.0  \n",
       "2         2.0  \n",
       "3         1.0  \n",
       "4         NaN  "
      ]
     },
     "execution_count": 35,
     "metadata": {},
     "output_type": "execute_result"
    }
   ],
   "source": [
    "cur.execute('select * from topic left join author on topic.author_id = author.aid union select tid, title, description, author_id, aid, name, city, profile_id from author left join topic on author.aid = topic.author_id where topic.author_id is null')\n",
    "rows = cur.fetchall()\n",
    "col = list(map(lambda x : x[0], cur.description))\n",
    "pd.DataFrame(rows, columns= col)"
   ]
  }
 ],
 "metadata": {
  "kernelspec": {
   "display_name": "Python 3",
   "language": "python",
   "name": "python3"
  },
  "language_info": {
   "codemirror_mode": {
    "name": "ipython",
    "version": 3
   },
   "file_extension": ".py",
   "mimetype": "text/x-python",
   "name": "python",
   "nbconvert_exporter": "python",
   "pygments_lexer": "ipython3",
   "version": "3.8.3"
  }
 },
 "nbformat": 4,
 "nbformat_minor": 4
}
